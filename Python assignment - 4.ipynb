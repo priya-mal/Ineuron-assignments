{
 "cells": [
  {
   "cell_type": "markdown",
   "metadata": {},
   "source": [
    "## Python assignment - 4"
   ]
  },
  {
   "cell_type": "markdown",
   "metadata": {},
   "source": [
    "**1.1  Write a Python Program(with class concepts) to find the area of the triangle using the below formula.**\n",
    " \n",
    "**area = (s*(s-a)*(s-b)*(s-c)) ** 0.5**\n",
    " \n",
    "**Function to take the length of the sides of triangle from user should be defined in the parent class and function to calculate the area should be defined in subclass.**"
   ]
  },
  {
   "cell_type": "code",
   "execution_count": 2,
   "metadata": {},
   "outputs": [
    {
     "name": "stdout",
     "output_type": "stream",
     "text": [
      "Please enter the first side of a triangle: 2\n",
      "Please enter the second side of a triangle: 3\n",
      "Please enter the third side of a triangle: 4\n",
      "2.9047375096555625\n"
     ]
    }
   ],
   "source": [
    "import sys\n",
    "import math\n",
    " \n",
    "a = int(input('Please enter the first side of a triangle: '))\n",
    "b = int(input('Please enter the second side of a triangle: '))\n",
    "c = int(input('Please enter the third side of a triangle: '))\n",
    "class triangle():\n",
    "   def __init__(self,a,b,c):\n",
    "       self.a = a\n",
    "       self.b = b\n",
    "       self.c = c\n",
    "   def area(self):\n",
    "       s=(a + b + c)/2\n",
    "       area=math.sqrt(s*(s-a)*(s-b)*(s-c))\n",
    "       return area\n",
    "t = triangle(a, b, c)\n",
    "print(t.area())"
   ]
  },
  {
   "cell_type": "markdown",
   "metadata": {},
   "source": [
    "**1.2 Write a function filter_long_words() that takes a list of words and an integer n and returns the list of words that are longer than n.**"
   ]
  },
  {
   "cell_type": "code",
   "execution_count": 3,
   "metadata": {},
   "outputs": [
    {
     "name": "stdout",
     "output_type": "stream",
     "text": [
      "enter the num : 2\n",
      "enter the words : we are fine here\n",
      "['are', 'fine', 'here']\n"
     ]
    }
   ],
   "source": [
    "def filter_long_words(n, str):  \n",
    "    word_len = []  \n",
    "    txt = str.split(\" \")  \n",
    "    for x in txt:  \n",
    "        if len(x) > n:  \n",
    "            word_len.append(x)  \n",
    "    return word_len   \n",
    "n1 = int(input(\"enter the num : \"))\n",
    "str1 = input(\"enter the words : \")\n",
    "print(filter_long_words(n1,str1))"
   ]
  },
  {
   "cell_type": "markdown",
   "metadata": {},
   "source": [
    "**2.1 Write a Python program using function concept that maps  list of words into a list of integers representing the lengths of the corresponding words.**"
   ]
  },
  {
   "cell_type": "code",
   "execution_count": 4,
   "metadata": {},
   "outputs": [
    {
     "name": "stdout",
     "output_type": "stream",
     "text": [
      "length of words respectively [2, 3, 3, 3]\n"
     ]
    }
   ],
   "source": [
    "wordlist = ['hi', 'how', 'are','you']\n",
    "\n",
    "def wordlength(wordist):\n",
    "    return list(map(lambda x: len(x), wordlist))\n",
    "\n",
    "print(\"length of words respectively \" +str(wordlength(wordlist)))"
   ]
  },
  {
   "cell_type": "markdown",
   "metadata": {},
   "source": [
    "## OR"
   ]
  },
  {
   "cell_type": "code",
   "execution_count": 5,
   "metadata": {},
   "outputs": [
    {
     "name": "stdout",
     "output_type": "stream",
     "text": [
      "enter the list of comma seperated words: hi,we,are fine,here\n",
      "length of words respectively [2, 2, 8, 4]\n"
     ]
    }
   ],
   "source": [
    "s = input(\"enter the list of comma seperated words: \")\n",
    "#numbers = list(map(int, s.split()))\n",
    "wordlist = s.split(',')\n",
    "def wordlength(wordist):\n",
    "    return list(map(lambda x: len(x), wordlist))\n",
    "\n",
    "print(\"length of words respectively \" +str(wordlength(wordlist)))"
   ]
  },
  {
   "cell_type": "markdown",
   "metadata": {},
   "source": [
    "**2.2 Write a Python function which takes a character (i.e. a string of length 1) and returns True if it is a vowel, False otherwise.**"
   ]
  },
  {
   "cell_type": "code",
   "execution_count": 6,
   "metadata": {},
   "outputs": [
    {
     "name": "stdout",
     "output_type": "stream",
     "text": [
      "enter the letter : r\n",
      "False\n"
     ]
    }
   ],
   "source": [
    "char = input(\"enter the letter : \")\n",
    "ch = char.lower()\n",
    "def is_vowel():\n",
    "    if ch=='a' or ch=='e' or ch=='i' or ch=='o' or ch=='u':\n",
    "        return True\n",
    "    else:\n",
    "        return False\n",
    "print(is_vowel())"
   ]
  }
 ],
 "metadata": {
  "kernelspec": {
   "display_name": "Python 3",
   "language": "python",
   "name": "python3"
  },
  "language_info": {
   "codemirror_mode": {
    "name": "ipython",
    "version": 3
   },
   "file_extension": ".py",
   "mimetype": "text/x-python",
   "name": "python",
   "nbconvert_exporter": "python",
   "pygments_lexer": "ipython3",
   "version": "3.7.4"
  }
 },
 "nbformat": 4,
 "nbformat_minor": 2
}

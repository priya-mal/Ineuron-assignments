{
 "cells": [
  {
   "cell_type": "markdown",
   "metadata": {},
   "source": [
    "# Exception handling Assignment"
   ]
  },
  {
   "cell_type": "markdown",
   "metadata": {},
   "source": [
    "## **1.Write a function to compute 5/0 and use try/except to catch the exceptions.**"
   ]
  },
  {
   "cell_type": "code",
   "execution_count": 4,
   "metadata": {},
   "outputs": [
    {
     "name": "stdout",
     "output_type": "stream",
     "text": [
      "Cannot divide a number by ZERO!!\n"
     ]
    }
   ],
   "source": [
    "def divide():\n",
    "    return 5/0\n",
    "\n",
    "try:\n",
    "    divide()\n",
    "except:\n",
    "    print(\"Cannot divide a number by ZERO!!\")"
   ]
  },
  {
   "cell_type": "markdown",
   "metadata": {},
   "source": [
    "## **2.Implement a Python program to generate all sentences where subject is in [\"Americans\",\"Indians\"]**\n",
    "and verb is in [\"Play\", \"watch\"] and the object is in [\"Baseball\",\"cricket\"].**\n",
    "\n",
    "### **Hint: Subject,Verb and Object should be declared in the program as shown below.**\n",
    "subjects=[\"Americans \",\"Indians\"]\n",
    "verbs=[\"play\",\"watch\"]\n",
    "objects=[\"Baseball\",\"Cricket\"]\n"
   ]
  },
  {
   "cell_type": "code",
   "execution_count": 17,
   "metadata": {},
   "outputs": [
    {
     "name": "stdout",
     "output_type": "stream",
     "text": [
      "Americans Play BasketBall\n",
      "Americans Play Cricket\n",
      "Americans Watch BasketBall\n",
      "Americans Watch Cricket\n",
      "Indians Play BasketBall\n",
      "Indians Play Cricket\n",
      "Indians Watch BasketBall\n",
      "Indians Watch Cricket\n"
     ]
    }
   ],
   "source": [
    "subjects  = [\"Americans\",\"Indians\"]\n",
    "verbs=[\"Play\",\"Watch\"]\n",
    "Objects = [\"BasketBall\",\"Cricket\"]\n",
    "\n",
    "sentence_list = [(sub+\" \"+ vb + \" \" +ob) for sub in subjects for vb in verbs for ob  in Objects]\n",
    "for sentence in sentence_list:\n",
    "    print(sentence)"
   ]
  }
 ],
 "metadata": {
  "kernelspec": {
   "display_name": "Python 3",
   "language": "python",
   "name": "python3"
  },
  "language_info": {
   "codemirror_mode": {
    "name": "ipython",
    "version": 3
   },
   "file_extension": ".py",
   "mimetype": "text/x-python",
   "name": "python",
   "nbconvert_exporter": "python",
   "pygments_lexer": "ipython3",
   "version": "3.7.4"
  }
 },
 "nbformat": 4,
 "nbformat_minor": 2
}
